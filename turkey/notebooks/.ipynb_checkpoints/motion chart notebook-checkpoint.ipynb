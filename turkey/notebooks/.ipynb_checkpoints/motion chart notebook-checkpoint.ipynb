{
 "cells": [
  {
   "cell_type": "markdown",
   "metadata": {},
   "source": [
    "# Motion Charts in Python with Pandas"
   ]
  },
  {
   "cell_type": "markdown",
   "metadata": {},
   "source": [
    "Hans Olav Melberg (hans.melberg@gmail.com), 17. October, 2015"
   ]
  },
  {
   "cell_type": "markdown",
   "metadata": {},
   "source": [
    "## Import modules"
   ]
  },
  {
   "cell_type": "code",
   "execution_count": 54,
   "metadata": {
    "collapsed": true
   },
   "outputs": [],
   "source": [
    "from motionchart.motionchart import MotionChart, MotionChartDemo\n",
    "import webbrowser\n",
    "import pandas as pd\n",
    "import pyperclip\n",
    "df=pd.read_csv('C:/Users/nailt/Desktop/bubble.csv')"
   ]
  },
  {
   "cell_type": "code",
   "execution_count": 37,
   "metadata": {
    "collapsed": true
   },
   "outputs": [],
   "source": [
    "df = df.drop('Delivery Quality', 1)"
   ]
  },
  {
   "cell_type": "markdown",
   "metadata": {},
   "source": [
    "Install if necessary, using \"pip install motionchart\""
   ]
  },
  {
   "cell_type": "markdown",
   "metadata": {},
   "source": [
    "## Define dataframe"
   ]
  },
  {
   "cell_type": "code",
   "execution_count": 55,
   "metadata": {},
   "outputs": [
    {
     "data": {
      "text/html": [
       "<div>\n",
       "<style>\n",
       "    .dataframe thead tr:only-child th {\n",
       "        text-align: right;\n",
       "    }\n",
       "\n",
       "    .dataframe thead th {\n",
       "        text-align: left;\n",
       "    }\n",
       "\n",
       "    .dataframe tbody tr th {\n",
       "        vertical-align: top;\n",
       "    }\n",
       "</style>\n",
       "<table border=\"1\" class=\"dataframe\">\n",
       "  <thead>\n",
       "    <tr style=\"text-align: right;\">\n",
       "      <th></th>\n",
       "      <th>State</th>\n",
       "      <th>Year</th>\n",
       "      <th>Value</th>\n",
       "    </tr>\n",
       "  </thead>\n",
       "  <tbody>\n",
       "    <tr>\n",
       "      <th>0</th>\n",
       "      <td>Social support</td>\n",
       "      <td>2005</td>\n",
       "      <td>0.819936</td>\n",
       "    </tr>\n",
       "    <tr>\n",
       "      <th>1</th>\n",
       "      <td>Freedom to make life choices</td>\n",
       "      <td>2005</td>\n",
       "      <td>0.623115</td>\n",
       "    </tr>\n",
       "    <tr>\n",
       "      <th>2</th>\n",
       "      <td>Generosity</td>\n",
       "      <td>2005</td>\n",
       "      <td>-0.191836</td>\n",
       "    </tr>\n",
       "    <tr>\n",
       "      <th>3</th>\n",
       "      <td>Positive affect</td>\n",
       "      <td>2005</td>\n",
       "      <td>0.556581</td>\n",
       "    </tr>\n",
       "    <tr>\n",
       "      <th>4</th>\n",
       "      <td>Negative affect</td>\n",
       "      <td>2005</td>\n",
       "      <td>0.352256</td>\n",
       "    </tr>\n",
       "    <tr>\n",
       "      <th>5</th>\n",
       "      <td>Confidence in national government</td>\n",
       "      <td>2005</td>\n",
       "      <td>0.595774</td>\n",
       "    </tr>\n",
       "    <tr>\n",
       "      <th>6</th>\n",
       "      <td>Democratic Quality</td>\n",
       "      <td>2005</td>\n",
       "      <td>-0.300653</td>\n",
       "    </tr>\n",
       "    <tr>\n",
       "      <th>7</th>\n",
       "      <td>Social support</td>\n",
       "      <td>2007</td>\n",
       "      <td>0.792273</td>\n",
       "    </tr>\n",
       "    <tr>\n",
       "      <th>8</th>\n",
       "      <td>Freedom to make life choices</td>\n",
       "      <td>2007</td>\n",
       "      <td>0.459312</td>\n",
       "    </tr>\n",
       "    <tr>\n",
       "      <th>9</th>\n",
       "      <td>Generosity</td>\n",
       "      <td>2007</td>\n",
       "      <td>-0.186566</td>\n",
       "    </tr>\n",
       "    <tr>\n",
       "      <th>10</th>\n",
       "      <td>Positive affect</td>\n",
       "      <td>2007</td>\n",
       "      <td>0.650955</td>\n",
       "    </tr>\n",
       "    <tr>\n",
       "      <th>11</th>\n",
       "      <td>Negative affect</td>\n",
       "      <td>2007</td>\n",
       "      <td>0.395127</td>\n",
       "    </tr>\n",
       "    <tr>\n",
       "      <th>12</th>\n",
       "      <td>Confidence in national government</td>\n",
       "      <td>2007</td>\n",
       "      <td>0.557878</td>\n",
       "    </tr>\n",
       "    <tr>\n",
       "      <th>13</th>\n",
       "      <td>Democratic Quality</td>\n",
       "      <td>2007</td>\n",
       "      <td>-0.435436</td>\n",
       "    </tr>\n",
       "    <tr>\n",
       "      <th>14</th>\n",
       "      <td>Social support</td>\n",
       "      <td>2008</td>\n",
       "      <td>0.644874</td>\n",
       "    </tr>\n",
       "    <tr>\n",
       "      <th>15</th>\n",
       "      <td>Freedom to make life choices</td>\n",
       "      <td>2008</td>\n",
       "      <td>0.415498</td>\n",
       "    </tr>\n",
       "    <tr>\n",
       "      <th>16</th>\n",
       "      <td>Generosity</td>\n",
       "      <td>2008</td>\n",
       "      <td>-0.197107</td>\n",
       "    </tr>\n",
       "    <tr>\n",
       "      <th>17</th>\n",
       "      <td>Positive affect</td>\n",
       "      <td>2008</td>\n",
       "      <td>0.614249</td>\n",
       "    </tr>\n",
       "    <tr>\n",
       "      <th>18</th>\n",
       "      <td>Negative affect</td>\n",
       "      <td>2008</td>\n",
       "      <td>0.345338</td>\n",
       "    </tr>\n",
       "    <tr>\n",
       "      <th>19</th>\n",
       "      <td>Confidence in national government</td>\n",
       "      <td>2008</td>\n",
       "      <td>0.597623</td>\n",
       "    </tr>\n",
       "    <tr>\n",
       "      <th>20</th>\n",
       "      <td>Democratic Quality</td>\n",
       "      <td>2008</td>\n",
       "      <td>-0.432428</td>\n",
       "    </tr>\n",
       "    <tr>\n",
       "      <th>21</th>\n",
       "      <td>Social support</td>\n",
       "      <td>2009</td>\n",
       "      <td>0.754646</td>\n",
       "    </tr>\n",
       "    <tr>\n",
       "      <th>22</th>\n",
       "      <td>Freedom to make life choices</td>\n",
       "      <td>2009</td>\n",
       "      <td>0.455817</td>\n",
       "    </tr>\n",
       "    <tr>\n",
       "      <th>23</th>\n",
       "      <td>Generosity</td>\n",
       "      <td>2009</td>\n",
       "      <td>-0.235044</td>\n",
       "    </tr>\n",
       "    <tr>\n",
       "      <th>24</th>\n",
       "      <td>Positive affect</td>\n",
       "      <td>2009</td>\n",
       "      <td>0.598295</td>\n",
       "    </tr>\n",
       "    <tr>\n",
       "      <th>25</th>\n",
       "      <td>Negative affect</td>\n",
       "      <td>2009</td>\n",
       "      <td>0.316302</td>\n",
       "    </tr>\n",
       "    <tr>\n",
       "      <th>26</th>\n",
       "      <td>Confidence in national government</td>\n",
       "      <td>2009</td>\n",
       "      <td>0.583758</td>\n",
       "    </tr>\n",
       "    <tr>\n",
       "      <th>27</th>\n",
       "      <td>Democratic Quality</td>\n",
       "      <td>2009</td>\n",
       "      <td>-0.543683</td>\n",
       "    </tr>\n",
       "    <tr>\n",
       "      <th>28</th>\n",
       "      <td>Social support</td>\n",
       "      <td>2010</td>\n",
       "      <td>0.794905</td>\n",
       "    </tr>\n",
       "    <tr>\n",
       "      <th>29</th>\n",
       "      <td>Freedom to make life choices</td>\n",
       "      <td>2010</td>\n",
       "      <td>0.514920</td>\n",
       "    </tr>\n",
       "    <tr>\n",
       "      <th>...</th>\n",
       "      <td>...</td>\n",
       "      <td>...</td>\n",
       "      <td>...</td>\n",
       "    </tr>\n",
       "    <tr>\n",
       "      <th>54</th>\n",
       "      <td>Confidence in national government</td>\n",
       "      <td>2013</td>\n",
       "      <td>0.538312</td>\n",
       "    </tr>\n",
       "    <tr>\n",
       "      <th>55</th>\n",
       "      <td>Democratic Quality</td>\n",
       "      <td>2013</td>\n",
       "      <td>-0.750629</td>\n",
       "    </tr>\n",
       "    <tr>\n",
       "      <th>56</th>\n",
       "      <td>Social support</td>\n",
       "      <td>2014</td>\n",
       "      <td>0.863288</td>\n",
       "    </tr>\n",
       "    <tr>\n",
       "      <th>57</th>\n",
       "      <td>Freedom to make life choices</td>\n",
       "      <td>2014</td>\n",
       "      <td>0.649196</td>\n",
       "    </tr>\n",
       "    <tr>\n",
       "      <th>58</th>\n",
       "      <td>Generosity</td>\n",
       "      <td>2014</td>\n",
       "      <td>-0.033588</td>\n",
       "    </tr>\n",
       "    <tr>\n",
       "      <th>59</th>\n",
       "      <td>Positive affect</td>\n",
       "      <td>2014</td>\n",
       "      <td>0.483359</td>\n",
       "    </tr>\n",
       "    <tr>\n",
       "      <th>60</th>\n",
       "      <td>Negative affect</td>\n",
       "      <td>2014</td>\n",
       "      <td>0.377325</td>\n",
       "    </tr>\n",
       "    <tr>\n",
       "      <th>61</th>\n",
       "      <td>Confidence in national government</td>\n",
       "      <td>2014</td>\n",
       "      <td>0.556478</td>\n",
       "    </tr>\n",
       "    <tr>\n",
       "      <th>62</th>\n",
       "      <td>Democratic Quality</td>\n",
       "      <td>2014</td>\n",
       "      <td>-0.712228</td>\n",
       "    </tr>\n",
       "    <tr>\n",
       "      <th>63</th>\n",
       "      <td>Social support</td>\n",
       "      <td>2015</td>\n",
       "      <td>0.851225</td>\n",
       "    </tr>\n",
       "    <tr>\n",
       "      <th>64</th>\n",
       "      <td>Freedom to make life choices</td>\n",
       "      <td>2015</td>\n",
       "      <td>0.653197</td>\n",
       "    </tr>\n",
       "    <tr>\n",
       "      <th>65</th>\n",
       "      <td>Generosity</td>\n",
       "      <td>2015</td>\n",
       "      <td>-0.026482</td>\n",
       "    </tr>\n",
       "    <tr>\n",
       "      <th>66</th>\n",
       "      <td>Positive affect</td>\n",
       "      <td>2015</td>\n",
       "      <td>0.460246</td>\n",
       "    </tr>\n",
       "    <tr>\n",
       "      <th>67</th>\n",
       "      <td>Negative affect</td>\n",
       "      <td>2015</td>\n",
       "      <td>0.382291</td>\n",
       "    </tr>\n",
       "    <tr>\n",
       "      <th>68</th>\n",
       "      <td>Confidence in national government</td>\n",
       "      <td>2015</td>\n",
       "      <td>0.486085</td>\n",
       "    </tr>\n",
       "    <tr>\n",
       "      <th>69</th>\n",
       "      <td>Democratic Quality</td>\n",
       "      <td>2015</td>\n",
       "      <td>-0.930811</td>\n",
       "    </tr>\n",
       "    <tr>\n",
       "      <th>70</th>\n",
       "      <td>Social support</td>\n",
       "      <td>2016</td>\n",
       "      <td>0.879995</td>\n",
       "    </tr>\n",
       "    <tr>\n",
       "      <th>71</th>\n",
       "      <td>Freedom to make life choices</td>\n",
       "      <td>2016</td>\n",
       "      <td>0.644147</td>\n",
       "    </tr>\n",
       "    <tr>\n",
       "      <th>72</th>\n",
       "      <td>Generosity</td>\n",
       "      <td>2016</td>\n",
       "      <td>-0.075363</td>\n",
       "    </tr>\n",
       "    <tr>\n",
       "      <th>73</th>\n",
       "      <td>Positive affect</td>\n",
       "      <td>2016</td>\n",
       "      <td>0.465151</td>\n",
       "    </tr>\n",
       "    <tr>\n",
       "      <th>74</th>\n",
       "      <td>Negative affect</td>\n",
       "      <td>2016</td>\n",
       "      <td>0.389963</td>\n",
       "    </tr>\n",
       "    <tr>\n",
       "      <th>75</th>\n",
       "      <td>Confidence in national government</td>\n",
       "      <td>2016</td>\n",
       "      <td>0.583728</td>\n",
       "    </tr>\n",
       "    <tr>\n",
       "      <th>76</th>\n",
       "      <td>Democratic Quality</td>\n",
       "      <td>2016</td>\n",
       "      <td>-1.316572</td>\n",
       "    </tr>\n",
       "    <tr>\n",
       "      <th>77</th>\n",
       "      <td>Social support</td>\n",
       "      <td>2017</td>\n",
       "      <td>0.876468</td>\n",
       "    </tr>\n",
       "    <tr>\n",
       "      <th>78</th>\n",
       "      <td>Freedom to make life choices</td>\n",
       "      <td>2017</td>\n",
       "      <td>0.644434</td>\n",
       "    </tr>\n",
       "    <tr>\n",
       "      <th>79</th>\n",
       "      <td>Generosity</td>\n",
       "      <td>2017</td>\n",
       "      <td>-0.246927</td>\n",
       "    </tr>\n",
       "    <tr>\n",
       "      <th>80</th>\n",
       "      <td>Positive affect</td>\n",
       "      <td>2017</td>\n",
       "      <td>0.449801</td>\n",
       "    </tr>\n",
       "    <tr>\n",
       "      <th>81</th>\n",
       "      <td>Negative affect</td>\n",
       "      <td>2017</td>\n",
       "      <td>0.312846</td>\n",
       "    </tr>\n",
       "    <tr>\n",
       "      <th>82</th>\n",
       "      <td>Confidence in national government</td>\n",
       "      <td>2017</td>\n",
       "      <td>0.586161</td>\n",
       "    </tr>\n",
       "    <tr>\n",
       "      <th>83</th>\n",
       "      <td>Democratic Quality</td>\n",
       "      <td>2017</td>\n",
       "      <td>-1.316572</td>\n",
       "    </tr>\n",
       "  </tbody>\n",
       "</table>\n",
       "<p>84 rows × 3 columns</p>\n",
       "</div>"
      ],
      "text/plain": [
       "                                State  Year     Value\n",
       "0                      Social support  2005  0.819936\n",
       "1        Freedom to make life choices  2005  0.623115\n",
       "2                          Generosity  2005 -0.191836\n",
       "3                     Positive affect  2005  0.556581\n",
       "4                     Negative affect  2005  0.352256\n",
       "5   Confidence in national government  2005  0.595774\n",
       "6                  Democratic Quality  2005 -0.300653\n",
       "7                      Social support  2007  0.792273\n",
       "8        Freedom to make life choices  2007  0.459312\n",
       "9                          Generosity  2007 -0.186566\n",
       "10                    Positive affect  2007  0.650955\n",
       "11                    Negative affect  2007  0.395127\n",
       "12  Confidence in national government  2007  0.557878\n",
       "13                 Democratic Quality  2007 -0.435436\n",
       "14                     Social support  2008  0.644874\n",
       "15       Freedom to make life choices  2008  0.415498\n",
       "16                         Generosity  2008 -0.197107\n",
       "17                    Positive affect  2008  0.614249\n",
       "18                    Negative affect  2008  0.345338\n",
       "19  Confidence in national government  2008  0.597623\n",
       "20                 Democratic Quality  2008 -0.432428\n",
       "21                     Social support  2009  0.754646\n",
       "22       Freedom to make life choices  2009  0.455817\n",
       "23                         Generosity  2009 -0.235044\n",
       "24                    Positive affect  2009  0.598295\n",
       "25                    Negative affect  2009  0.316302\n",
       "26  Confidence in national government  2009  0.583758\n",
       "27                 Democratic Quality  2009 -0.543683\n",
       "28                     Social support  2010  0.794905\n",
       "29       Freedom to make life choices  2010  0.514920\n",
       "..                                ...   ...       ...\n",
       "54  Confidence in national government  2013  0.538312\n",
       "55                 Democratic Quality  2013 -0.750629\n",
       "56                     Social support  2014  0.863288\n",
       "57       Freedom to make life choices  2014  0.649196\n",
       "58                         Generosity  2014 -0.033588\n",
       "59                    Positive affect  2014  0.483359\n",
       "60                    Negative affect  2014  0.377325\n",
       "61  Confidence in national government  2014  0.556478\n",
       "62                 Democratic Quality  2014 -0.712228\n",
       "63                     Social support  2015  0.851225\n",
       "64       Freedom to make life choices  2015  0.653197\n",
       "65                         Generosity  2015 -0.026482\n",
       "66                    Positive affect  2015  0.460246\n",
       "67                    Negative affect  2015  0.382291\n",
       "68  Confidence in national government  2015  0.486085\n",
       "69                 Democratic Quality  2015 -0.930811\n",
       "70                     Social support  2016  0.879995\n",
       "71       Freedom to make life choices  2016  0.644147\n",
       "72                         Generosity  2016 -0.075363\n",
       "73                    Positive affect  2016  0.465151\n",
       "74                    Negative affect  2016  0.389963\n",
       "75  Confidence in national government  2016  0.583728\n",
       "76                 Democratic Quality  2016 -1.316572\n",
       "77                     Social support  2017  0.876468\n",
       "78       Freedom to make life choices  2017  0.644434\n",
       "79                         Generosity  2017 -0.246927\n",
       "80                    Positive affect  2017  0.449801\n",
       "81                    Negative affect  2017  0.312846\n",
       "82  Confidence in national government  2017  0.586161\n",
       "83                 Democratic Quality  2017 -1.316572\n",
       "\n",
       "[84 rows x 3 columns]"
      ]
     },
     "execution_count": 55,
     "metadata": {},
     "output_type": "execute_result"
    }
   ],
   "source": [
    "df"
   ]
  },
  {
   "cell_type": "markdown",
   "metadata": {},
   "source": [
    "## Create and show MotionChart"
   ]
  },
  {
   "cell_type": "code",
   "execution_count": 58,
   "metadata": {
    "scrolled": true
   },
   "outputs": [
    {
     "data": {
      "text/html": [
       "\n",
       "        <iframe\n",
       "            width=\"900\"\n",
       "            height=\"700\"\n",
       "            src=\"mc_temp.html\"\n",
       "            frameborder=\"0\"\n",
       "            allowfullscreen\n",
       "        ></iframe>\n",
       "        "
      ],
      "text/plain": [
       "<IPython.lib.display.IFrame at 0x2679e2dbf98>"
      ]
     },
     "metadata": {},
     "output_type": "display_data"
    }
   ],
   "source": [
    "mChart = MotionChart(df = df)\n",
    "mChart.to_notebook()"
   ]
  },
  {
   "cell_type": "markdown",
   "metadata": {},
   "source": [
    "## Demo"
   ]
  },
  {
   "cell_type": "code",
   "execution_count": 57,
   "metadata": {},
   "outputs": [
    {
     "ename": "NameError",
     "evalue": "name 'motionChartDemo' is not defined",
     "output_type": "error",
     "traceback": [
      "\u001b[1;31m---------------------------------------------------------------------------\u001b[0m",
      "\u001b[1;31mNameError\u001b[0m                                 Traceback (most recent call last)",
      "\u001b[1;32m<ipython-input-57-97aff12a3721>\u001b[0m in \u001b[0;36m<module>\u001b[1;34m()\u001b[0m\n\u001b[1;32m----> 1\u001b[1;33m \u001b[0mmotionChartDemo\u001b[0m\u001b[1;33m(\u001b[0m\u001b[1;33m)\u001b[0m\u001b[1;33m\u001b[0m\u001b[0m\n\u001b[0m",
      "\u001b[1;31mNameError\u001b[0m: name 'motionChartDemo' is not defined"
     ]
    }
   ],
   "source": [
    "motionChartDemo()"
   ]
  },
  {
   "cell_type": "markdown",
   "metadata": {},
   "source": [
    "# A more detailed look at the options"
   ]
  },
  {
   "cell_type": "markdown",
   "metadata": {},
   "source": [
    "### 1. Use the column names from the dataframe to define which variable to use"
   ]
  },
  {
   "cell_type": "code",
   "execution_count": 61,
   "metadata": {},
   "outputs": [],
   "source": [
    "mc = MotionChart(df = df,\n",
    "              key = 'Year',\n",
    "              x = 'Year',\n",
    "              y = 'Value',\n",
    "              color = 'State',\n",
    "              category = 'State')\n",
    "mc.to_browser()"
   ]
  },
  {
   "cell_type": "markdown",
   "metadata": {},
   "source": [
    "Remember that clicking on the chart after it is created in the browser also allows you to change the specification."
   ]
  },
  {
   "cell_type": "markdown",
   "metadata": {},
   "source": [
    "### 2. To send the object to the Jupyter Notebook, to a browser, to the clipboard  and to a html file"
   ]
  },
  {
   "cell_type": "code",
   "execution_count": 62,
   "metadata": {},
   "outputs": [
    {
     "data": {
      "text/html": [
       "\n",
       "        <iframe\n",
       "            width=\"900\"\n",
       "            height=\"700\"\n",
       "            src=\"mc_temp.html\"\n",
       "            frameborder=\"0\"\n",
       "            allowfullscreen\n",
       "        ></iframe>\n",
       "        "
      ],
      "text/plain": [
       "<IPython.lib.display.IFrame at 0x2679e2c5fd0>"
      ]
     },
     "metadata": {},
     "output_type": "display_data"
    },
    {
     "ename": "TypeError",
     "evalue": "to_file() missing 1 required positional argument: 'path_and_name'",
     "output_type": "error",
     "traceback": [
      "\u001b[1;31m---------------------------------------------------------------------------\u001b[0m",
      "\u001b[1;31mTypeError\u001b[0m                                 Traceback (most recent call last)",
      "\u001b[1;32m<ipython-input-62-28083161e574>\u001b[0m in \u001b[0;36m<module>\u001b[1;34m()\u001b[0m\n\u001b[0;32m      2\u001b[0m \u001b[0mmc\u001b[0m\u001b[1;33m.\u001b[0m\u001b[0mto_browser\u001b[0m\u001b[1;33m(\u001b[0m\u001b[1;33m)\u001b[0m\u001b[1;33m\u001b[0m\u001b[0m\n\u001b[0;32m      3\u001b[0m \u001b[0mmc\u001b[0m\u001b[1;33m.\u001b[0m\u001b[0mto_clipboard\u001b[0m\u001b[1;33m(\u001b[0m\u001b[1;33m)\u001b[0m\u001b[1;33m\u001b[0m\u001b[0m\n\u001b[1;32m----> 4\u001b[1;33m \u001b[0mmc\u001b[0m\u001b[1;33m.\u001b[0m\u001b[0mto_file\u001b[0m\u001b[1;33m(\u001b[0m\u001b[1;33m)\u001b[0m\u001b[1;33m\u001b[0m\u001b[0m\n\u001b[0m",
      "\u001b[1;31mTypeError\u001b[0m: to_file() missing 1 required positional argument: 'path_and_name'"
     ]
    }
   ],
   "source": [
    "mc.to_notebook()\n",
    "mc.to_browser()\n",
    "mc.to_clipboard()\n",
    "mc.to_file()"
   ]
  },
  {
   "cell_type": "markdown",
   "metadata": {},
   "source": [
    "### 3. You are free to use the column number instead of the column name "
   ]
  },
  {
   "cell_type": "markdown",
   "metadata": {},
   "source": [
    "This is useful if you want to use the index column of the dataframe."
   ]
  },
  {
   "cell_type": "code",
   "execution_count": 43,
   "metadata": {
    "collapsed": true
   },
   "outputs": [],
   "source": [
    "mc = MotionChart(df = df, \n",
    "                 title = \"Motion Chart\",\n",
    "                 url = \"http://socr.ucla.edu/htmls/HTML5/MotionChart\",\n",
    "                 key = 1,\n",
    "                 x = 2,\n",
    "                 y = 3,\n",
    "                 size = 4, \n",
    "                 color = 5,\n",
    "                 category = 1)"
   ]
  },
  {
   "cell_type": "markdown",
   "metadata": {},
   "source": [
    "### 4. Offline?"
   ]
  },
  {
   "cell_type": "markdown",
   "metadata": {},
   "source": [
    "It is possible to use create and show motionCharts without an internet connection. This requires that you first install the folders with the javascript files on your local machine (copy the \"css\" and \"js\" folders and the content from https://github.com/hmelberg/motionchart). Next, when defining a motion chart you tell it the path to the local folder where the required files are like this: "
   ]
  },
  {
   "cell_type": "code",
   "execution_count": null,
   "metadata": {
    "collapsed": true
   },
   "outputs": [],
   "source": [
    "mChart = MotionChart(dataframe, url = \"(path to your folder with the motion chart js and css)\")"
   ]
  },
  {
   "cell_type": "markdown",
   "metadata": {},
   "source": [
    "## List of options and defaults "
   ]
  },
  {
   "cell_type": "code",
   "execution_count": 44,
   "metadata": {
    "collapsed": true
   },
   "outputs": [],
   "source": [
    "mc = MotionChart(\n",
    "                    df = df, \n",
    "                    title = \"Motion Chart\",\n",
    "                    url = \"http://socr.ucla.edu/htmls/HTML5/MotionChart\",\n",
    "                    key = 1,\n",
    "                    x = 2,\n",
    "                    y = 3,\n",
    "                    size = 4, \n",
    "                    color = 5,\n",
    "                    category = 1,\n",
    "                    xscale='linear',\n",
    "                    yscale='linear',\n",
    "                    play = 'true',\n",
    "                    loop = 'false',\n",
    "                    width = 800,\n",
    "                    height = 600,\n",
    "                    varLabels=None)"
   ]
  },
  {
   "cell_type": "markdown",
   "metadata": {},
   "source": [
    "## Explained"
   ]
  },
  {
   "cell_type": "markdown",
   "metadata": {},
   "source": [
    "**df**              \n",
    "    # specifies the name of the pandas dataframe used to create the motion chart, default is df\n",
    "\n",
    "**title**           \n",
    "    # string. The title of the chart (text, string) \n",
    "\n",
    "**url             **\n",
    "    # string. url to folder with js and css files; can be local, default is external (requires web) \n",
    "\n",
    "**key**             \n",
    "    # string or integer. the column number of the \"play\" variable (does not have to be time)\n",
    "\n",
    "**x**               \n",
    "    # string or integer. number (integer) or name (text, string) of the x-variable in the chart\n",
    "\n",
    "**y**\n",
    "    # string or integer. number (integer) or name (text, string) of the x-variable in the chart\n",
    "\n",
    "**size**            \n",
    "    # name (string) or column number of the variable used to determine the size of the circles\n",
    "\n",
    "**color**           \n",
    "    # name (string) or column number of the variable used to determine the color of the circles\n",
    "\n",
    "**category**        \n",
    "    # name (string) or column number of the variable used to describe the category   \n",
    "\n",
    "**xscale**          \n",
    "    # Scale for x-variable, default 'linear'. Options: 'log', 'sqrt', 'log', 'quadnomial', 'ordinal'\n",
    "\n",
    "**yscale**          \n",
    "    # Scale for y-variable, default 'linear'. Options: 'log', 'sqrt', 'log', 'quadnomial', 'ordinal'\n",
    "\n",
    "**play**            \n",
    "    # string. 'true' or 'false' (default, false). Determines whether the motion starts right away\n",
    "\n",
    "**loop**            \n",
    "    # string. 'true' or 'false' (default, false). Determines whether the motion keeps repeating \n",
    "\n",
    "**width**           \n",
    "    # integer. width of chart in pixels, default 800\n",
    "\n",
    "**height**          \n",
    "    # integer. height of chart in pixels, default 400\n",
    "\n",
    "**varLabels**       \n",
    "    # list. list of labels for columns (default is column headers of dataframe, \n",
    "    # must be of same length as the number of columns in the dataframe, including the index columns\n",
    "\n",
    "                            "
   ]
  },
  {
   "cell_type": "markdown",
   "metadata": {},
   "source": [
    "## Acknowledgements and more information"
   ]
  },
  {
   "cell_type": "markdown",
   "metadata": {},
   "source": [
    "See https://github.com/RamyElkest/SocrMotionChartsHTML5 for more information about the javascript which builds the chart<BR>\n",
    "See also https://github.com/psychemedia/dataviz4development/tree/master/SocrMotionCharts<BR>\n",
    "For more bakcground, and java version, see http://www.amstat.org/publications/jse/v18n3/dinov.pdf<BR>"
   ]
  }
 ],
 "metadata": {
  "kernelspec": {
   "display_name": "Python 3",
   "language": "python",
   "name": "python3"
  },
  "language_info": {
   "codemirror_mode": {
    "name": "ipython",
    "version": 3
   },
   "file_extension": ".py",
   "mimetype": "text/x-python",
   "name": "python",
   "nbconvert_exporter": "python",
   "pygments_lexer": "ipython3",
   "version": "3.6.3"
  }
 },
 "nbformat": 4,
 "nbformat_minor": 1
}
